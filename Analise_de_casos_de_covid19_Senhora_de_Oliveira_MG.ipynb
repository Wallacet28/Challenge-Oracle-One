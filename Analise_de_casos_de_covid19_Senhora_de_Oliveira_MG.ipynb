{
  "cells": [
    {
      "cell_type": "markdown",
      "metadata": {
        "id": "view-in-github",
        "colab_type": "text"
      },
      "source": [
        "<a href=\"https://colab.research.google.com/github/Wallacet28/Challenge-Oracle-One/blob/main/Analise_de_casos_de_covid19_Senhora_de_Oliveira_MG.ipynb\" target=\"_parent\"><img src=\"https://colab.research.google.com/assets/colab-badge.svg\" alt=\"Open In Colab\"/></a>"
      ]
    },
    {
      "cell_type": "code",
      "execution_count": null,
      "metadata": {
        "id": "sBI191PlHlww"
      },
      "outputs": [],
      "source": [
        "#importando biblioteca que serão ultilizada.\n",
        "import openpyxl\n",
        "from pathlib import Path\n",
        "import pandas as pd\n",
        "import plotly.express as px\n",
        "from plotly.subplots import make_subplots\n",
        "import plotly.graph_objects as go\n",
        "import numpy as np\n",
        "import matplotlib.pyplot as plt\n",
        "\n",
        "import warnings\n",
        "warnings.filterwarnings('ignore')\n",
        "\n",
        "#formação da tabela\n",
        "pd.options.display.float_format = '{:.2f}'.format"
      ]
    },
    {
      "cell_type": "code",
      "execution_count": null,
      "metadata": {
        "colab": {
          "base_uri": "https://localhost:8080/",
          "height": 347
        },
        "id": "5cUmoJ1ELJ16",
        "outputId": "7a8e8f31-a126-43d1-e878-dd9361014677"
      },
      "outputs": [
        {
          "data": {
            "text/html": [
              "<div>\n",
              "<style scoped>\n",
              "    .dataframe tbody tr th:only-of-type {\n",
              "        vertical-align: middle;\n",
              "    }\n",
              "\n",
              "    .dataframe tbody tr th {\n",
              "        vertical-align: top;\n",
              "    }\n",
              "\n",
              "    .dataframe thead th {\n",
              "        text-align: right;\n",
              "    }\n",
              "</style>\n",
              "<table border=\"1\" class=\"dataframe\">\n",
              "  <thead>\n",
              "    <tr style=\"text-align: right;\">\n",
              "      <th></th>\n",
              "      <th>Coluna1</th>\n",
              "      <th>Coluna2</th>\n",
              "      <th>Coluna3</th>\n",
              "      <th>Coluna4</th>\n",
              "      <th>Coluna5</th>\n",
              "      <th>Coluna6</th>\n",
              "      <th>Coluna7</th>\n",
              "      <th>Coluna8</th>\n",
              "      <th>Coluna9</th>\n",
              "      <th>Coluna10</th>\n",
              "      <th>Coluna11</th>\n",
              "      <th>Coluna12</th>\n",
              "    </tr>\n",
              "  </thead>\n",
              "  <tbody>\n",
              "    <tr>\n",
              "      <th>0</th>\n",
              "      <td>Evolução dos casos de covid-19</td>\n",
              "      <td>Casos notificados</td>\n",
              "      <td>Descartados</td>\n",
              "      <td>Suspeitos</td>\n",
              "      <td>Em Monitoramento</td>\n",
              "      <td>Casos Confirmados</td>\n",
              "      <td>Casos Recuperados</td>\n",
              "      <td>Obitos</td>\n",
              "      <td>Internados</td>\n",
              "      <td>Casos Ativos</td>\n",
              "      <td>Obtito em investigação</td>\n",
              "      <td>Náo reside no municipio</td>\n",
              "    </tr>\n",
              "    <tr>\n",
              "      <th>1</th>\n",
              "      <td>Dia 04/01/2021</td>\n",
              "      <td>206</td>\n",
              "      <td>179</td>\n",
              "      <td>5</td>\n",
              "      <td>7</td>\n",
              "      <td>22</td>\n",
              "      <td>19</td>\n",
              "      <td>1</td>\n",
              "      <td>0</td>\n",
              "      <td>0</td>\n",
              "      <td>0</td>\n",
              "      <td>0</td>\n",
              "    </tr>\n",
              "    <tr>\n",
              "      <th>2</th>\n",
              "      <td>Dia 05/01/2021</td>\n",
              "      <td>208</td>\n",
              "      <td>179</td>\n",
              "      <td>5</td>\n",
              "      <td>9</td>\n",
              "      <td>24</td>\n",
              "      <td>19</td>\n",
              "      <td>0</td>\n",
              "      <td>0</td>\n",
              "      <td>0</td>\n",
              "      <td>0</td>\n",
              "      <td>0</td>\n",
              "    </tr>\n",
              "    <tr>\n",
              "      <th>3</th>\n",
              "      <td>Dia 06/01/2021</td>\n",
              "      <td>210</td>\n",
              "      <td>179</td>\n",
              "      <td>7</td>\n",
              "      <td>8</td>\n",
              "      <td>24</td>\n",
              "      <td>19</td>\n",
              "      <td>0</td>\n",
              "      <td>0</td>\n",
              "      <td>0</td>\n",
              "      <td>0</td>\n",
              "      <td>0</td>\n",
              "    </tr>\n",
              "    <tr>\n",
              "      <th>4</th>\n",
              "      <td>Dia 07/01/2021</td>\n",
              "      <td>211</td>\n",
              "      <td>179</td>\n",
              "      <td>7</td>\n",
              "      <td>12</td>\n",
              "      <td>25</td>\n",
              "      <td>19</td>\n",
              "      <td>0</td>\n",
              "      <td>0</td>\n",
              "      <td>0</td>\n",
              "      <td>0</td>\n",
              "      <td>0</td>\n",
              "    </tr>\n",
              "  </tbody>\n",
              "</table>\n",
              "</div>"
            ],
            "text/plain": [
              "                          Coluna1  ...                 Coluna12\n",
              "0  Evolução dos casos de covid-19  ...  Náo reside no municipio\n",
              "1                  Dia 04/01/2021  ...                        0\n",
              "2                  Dia 05/01/2021  ...                        0\n",
              "3                  Dia 06/01/2021  ...                        0\n",
              "4                  Dia 07/01/2021  ...                        0\n",
              "\n",
              "[5 rows x 12 columns]"
            ]
          },
          "execution_count": 18,
          "metadata": {},
          "output_type": "execute_result"
        }
      ],
      "source": [
        "#importando dados\n",
        "\n",
        "table = pd.read_excel('/Casos_de_coronavírus_Senhora_de_Oliveira_MG.xlsx')\n",
        "\n",
        "table.head()"
      ]
    },
    {
      "cell_type": "code",
      "execution_count": null,
      "metadata": {
        "id": "tukWIzumWqek"
      },
      "outputs": [],
      "source": [
        "table.head(84)\n"
      ]
    },
    {
      "cell_type": "code",
      "execution_count": null,
      "metadata": {
        "colab": {
          "background_save": true
        },
        "id": "DPdcEN0e38oo"
      },
      "outputs": [],
      "source": [
        "df = pd.read_excel('/Casos_de_coronavírus_Senhora_de_Oliveira_MG.xlsx')\n"
      ]
    },
    {
      "cell_type": "code",
      "execution_count": null,
      "metadata": {
        "colab": {
          "base_uri": "https://localhost:8080/"
        },
        "id": "CxatYnTV4lMT",
        "outputId": "05afcc23-d738-4e73-fb33-b1c39a542f6b"
      },
      "outputs": [
        {
          "name": "stdout",
          "output_type": "stream",
          "text": [
            "<class 'pandas.core.frame.DataFrame'>\n",
            "RangeIndex: 83 entries, 0 to 82\n",
            "Data columns (total 12 columns):\n",
            " #   Column    Non-Null Count  Dtype \n",
            "---  ------    --------------  ----- \n",
            " 0   Coluna1   83 non-null     object\n",
            " 1   Coluna2   83 non-null     object\n",
            " 2   Coluna3   83 non-null     object\n",
            " 3   Coluna4   83 non-null     object\n",
            " 4   Coluna5   83 non-null     object\n",
            " 5   Coluna6   83 non-null     object\n",
            " 6   Coluna7   83 non-null     object\n",
            " 7   Coluna8   83 non-null     object\n",
            " 8   Coluna9   83 non-null     object\n",
            " 9   Coluna10  83 non-null     object\n",
            " 10  Coluna11  83 non-null     object\n",
            " 11  Coluna12  79 non-null     object\n",
            "dtypes: object(12)\n",
            "memory usage: 7.9+ KB\n"
          ]
        }
      ],
      "source": [
        "df.info()"
      ]
    },
    {
      "cell_type": "code",
      "execution_count": null,
      "metadata": {
        "colab": {
          "base_uri": "https://localhost:8080/"
        },
        "id": "bPJsOX6FQ6pF",
        "outputId": "c8f6b451-5254-4cc3-f18e-a7e73d865cb2"
      },
      "outputs": [
        {
          "name": "stdout",
          "output_type": "stream",
          "text": [
            "<class 'pandas.core.frame.DataFrame'>\n",
            "RangeIndex: 83 entries, 0 to 82\n",
            "Data columns (total 12 columns):\n",
            " #   Column    Non-Null Count  Dtype \n",
            "---  ------    --------------  ----- \n",
            " 0   Coluna1   83 non-null     object\n",
            " 1   Coluna2   83 non-null     object\n",
            " 2   Coluna3   83 non-null     object\n",
            " 3   Coluna4   83 non-null     object\n",
            " 4   Coluna5   83 non-null     object\n",
            " 5   Coluna6   83 non-null     object\n",
            " 6   Coluna7   83 non-null     object\n",
            " 7   Coluna8   83 non-null     object\n",
            " 8   Coluna9   83 non-null     object\n",
            " 9   Coluna10  83 non-null     object\n",
            " 10  Coluna11  83 non-null     object\n",
            " 11  Coluna12  79 non-null     object\n",
            "dtypes: object(12)\n",
            "memory usage: 7.9+ KB\n"
          ]
        }
      ],
      "source": [
        "table.info()"
      ]
    },
    {
      "cell_type": "code",
      "execution_count": null,
      "metadata": {
        "colab": {
          "base_uri": "https://localhost:8080/",
          "height": 281
        },
        "id": "dEsruHHNch9o",
        "outputId": "f03e6db7-28c8-4138-bbe4-3f31f10b9abe"
      },
      "outputs": [
        {
          "data": {
            "image/png": "[encoded data removed]",
            "text/plain": [
              "<Figure size 432x288 with 1 Axes>"
            ]
          },
          "metadata": {},
          "output_type": "display_data"
        }
      ],
      "source": [
        "grupos = ['Casos No', 'Casos confirmados', 'Ativos no monento' ,'Monitoramento']\n",
        "valores = [489, 291, 67, 7]\n",
        "plt.title('Covid19 Senhora de Oliveira MG 24/09/2021')\n",
        "plt.barh(grupos, valores)\n",
        "plt.show()"
      ]
    },
    {
      "cell_type": "code",
      "execution_count": null,
      "metadata": {
        "colab": {
          "base_uri": "https://localhost:8080/",
          "height": 281
        },
        "id": "Y2JjqRm8_Yw_",
        "outputId": "abef6dd8-bcda-4896-ae68-d004578956e4"
      },
      "outputs": [
        {
          "data": {
            "image/png": "[encoded data removed]",
            "text/plain": [
              "<Figure size 432x288 with 1 Axes>"
            ]
          },
          "metadata": {},
          "output_type": "display_data"
        }
      ],
      "source": [
        "grupos = ['Casos Notificados', 'Casos confirmados', 'Suspeitos' ,'Monitoramento']\n",
        "valores = [206, 22 ,5 , 7]\n",
        "plt.title('Covid19 Senhora de Oliveira MG 04/01/2021')\n",
        "plt.barh(grupos, valores)\n",
        "plt.show()"
      ]
    },
    {
      "cell_type": "code",
      "execution_count": null,
      "metadata": {
        "colab": {
          "base_uri": "https://localhost:8080/",
          "height": 265
        },
        "id": "fAjz-lOfjLuV",
        "outputId": "222c862d-0001-41e9-a7be-b18a442af4a1"
      },
      "outputs": [
        {
          "data": {
            "image/png": "[encoded data removed]",
            "text/plain": [
              "<Figure size 432x288 with 1 Axes>"
            ]
          },
          "metadata": {},
          "output_type": "display_data"
        }
      ],
      "source": [
        "import numpy as np\n",
        "import matplotlib.pyplot as plt\n",
        "\n",
        "\"\"\"\n",
        "Plotagem de uma reta simples f(x) = 2x\n",
        "\"\"\"\n",
        "arr1 = np.array([1, 2, 3, 4, 5, 6, 7 ,8, 9, 10])\n",
        "arr2 = np.array([2, 4, 6, 8, 10, 12, 14 ,16, 18, 20])\n",
        "\n",
        "plt.figure(figsize=(6, 4))\n",
        "plt.plot(arr1, arr2)\n",
        "plt.savefig('reta-simples.png')"
      ]
    },
    {
      "cell_type": "code",
      "execution_count": null,
      "metadata": {
        "id": "DlommMe7kW4D"
      },
      "outputs": [],
      "source": [
        "import matplotlib.pyplot as plt\n",
        "import numpy as np\n",
        "votos = np.array([842.201, 488.775, 553.424, 424.307, 272.500, 381.512, 261.386])\n",
        "candi = ['Candidato A', 'Candidato B', 'Candidato C', 'Candidato D', 'Candidato E',\n",
        "         'Candidato F', 'Candidato G']\n",
        "\n",
        "cores=['gold', 'red', 'blue', 'magenta', 'green','lightskyblue', 'yellowgreen']\n",
        "# o atributo explode indica que fatia do gráfico será destacada. No exemplo abaixo, será a primeira fatia. A quantidade de valores é igual ao número de fatias do gráfico.\n",
        "explode = (0.1, 0, 0, 0, 0, 0, 0)  # explode 1st slice\n",
        "\n",
        "# Atribuindo um título ao gráfico\n",
        "plt.title('Eleição 2020 - Total de Votos')\n",
        "\n",
        "plt.pie(votos, explode=explode, labels=candi, colors=cores, autopct='%1.1f%%', shadow=True, startangle=90)\n",
        "\n",
        "#Adiciona Legenda\n",
        "plt.legend(candi, bbox_to_anchor=(1.3, 1.3),loc='upper right')\n",
        "\n",
        "#Centraliza o gráfico\n",
        "plt.axis('equal')\n",
        "\n",
        "#Ajusta o espaçamento para evitar o recorte do rótulo\n",
        "plt.tight_layout()\n",
        "\n",
        "plt.show()"
      ]
    },
    {
      "cell_type": "code",
      "execution_count": 4,
      "metadata": {
        "id": "iGgy5gXAkr7O",
        "colab": {
          "base_uri": "https://localhost:8080/",
          "height": 259
        },
        "outputId": "0463486f-d88d-442c-de83-0426dd5905bd"
      },
      "outputs": [
        {
          "output_type": "display_data",
          "data": {
            "text/plain": [
              "<Figure size 640x480 with 1 Axes>"
            ],
            "image/png": "[encoded data removed]"
          },
          "metadata": {}
        }
      ],
      "source": [
        "idade= ([19, 21, 23, 25, 25, 29, 31, 33, 35, 37, 39, 41, 31, 19,\n",
        "         40, 34, 28, 32, 29, 34, 27, 27, 36, 29, 37, 31, 29, 33,\n",
        "         34, 39, 26, 27, 37, 33, 38, 34, 33, 29, 36, 28, 27, 34,\n",
        "         28, 27, 30, 28, 37, 37, 32, 36, 34, 38, 29, 30, 20, 30,\n",
        "         31, 25, 32, 27, 28, 38, 29, 28, 33, 37, 40, 41, 40, 27,\n",
        "         30, 27, 25, 25, 29, 25, 39, 29, 39, 24, 25, 28, 24, 29,\n",
        "         29, 24, 24, 28, 31, 36, 24, 24, 33, 34, 31, 28, 24, 30,\n",
        "         31, 37, 17, 30, 27, 32, 35, 26, 26, 34, 33, 25, 24, 32,\n",
        "         32, 22, 30, 25, 32, 25, 21, 20, 30, 29, 18, 23, 23, 35,\n",
        "         20, 18, 27, 29, 17, 35, 17, 21, 28, 17, 23, 25, 24, 23,\n",
        "         20, 29, 22, 21, 22, 26, 19, 24, 25, 22, 19, 23, 18, 22,\n",
        "         35, 30, 28, 27, 29, 29, 22, 25, 22, 29, 26, 22, 19, 22,\n",
        "         33, 24, 29, 28, 19, 26, 29, 19, 31, 21, 21, 26, 31, 29])\n",
        "\n",
        "#Tamanho da amostra\n",
        "tamanho= len(idade)\n",
        "\n",
        "# quantidade de Classes (bins)\n",
        "cl = int(round(tamanho**(1/2),0))\n",
        "\n",
        "plt.title(\"Histograma de Idades\")\n",
        "plt.xlabel(\"Idades\")\n",
        "plt.ylabel(\"Frequências\")\n",
        "\n",
        "# Range é uma tupla indicando o intervalo das idades. alpha corresponde a saturação da cor\n",
        "plt.hist(idade, bins = cl, range = ( min(idade), max(idade)), alpha = 0.6, color = 'g')\n",
        "\n",
        "plt.tight_layout()\n",
        "\n",
        "plt.show()"
      ]
    }
  ],
  "metadata": {
    "colab": {
      "provenance": [],
      "mount_file_id": "1Cr5JZ6XCs4bDYxFZZn63aGS3M1zOeGYi",
      "authorship_tag": "ABX9TyPuwz9hURuwmW9hMSoKXTuD",
      "include_colab_link": true
    },
    "kernelspec": {
      "display_name": "Python 3",
      "name": "python3"
    },
    "language_info": {
      "name": "python"
    }
  },
  "nbformat": 4,
  "nbformat_minor": 0
}